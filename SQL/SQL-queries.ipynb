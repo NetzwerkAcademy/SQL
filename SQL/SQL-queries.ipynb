{
 "cells": [
  {
   "cell_type": "code",
   "execution_count": 11,
   "metadata": {},
   "outputs": [],
   "source": [
    "import sqlite3"
   ]
  },
  {
   "cell_type": "code",
   "execution_count": 12,
   "metadata": {},
   "outputs": [],
   "source": [
    "conn = sqlite3.connect(\"student.db\")"
   ]
  },
  {
   "cell_type": "code",
   "execution_count": 13,
   "metadata": {},
   "outputs": [
    {
     "data": {
      "text/plain": [
       "<sqlite3.Cursor at 0x1cfaa28e880>"
      ]
     },
     "execution_count": 13,
     "metadata": {},
     "output_type": "execute_result"
    }
   ],
   "source": [
    "conn.execute(\"CREATE TABLE employee\\\n",
    "             (employee_name CHAR(10) NOT NULL,\\\n",
    "             employee_id INT(10) PRIMARY KEY NOT NULL)\")"
   ]
  },
  {
   "cell_type": "code",
   "execution_count": 14,
   "metadata": {},
   "outputs": [
    {
     "data": {
      "text/plain": [
       "<sqlite3.Cursor at 0x1cfaa25b7a0>"
      ]
     },
     "execution_count": 14,
     "metadata": {},
     "output_type": "execute_result"
    }
   ],
   "source": [
    "conn.execute(\"CREATE TABLE projects\\\n",
    "(project_id CHAR(5) NOT NULL,\\\n",
    "proj_name CHAR(10) NOT NULL,\\\n",
    "employee_id INT(10),FOREIGN KEY(employee_id) references employee(employee_id))\")"
   ]
  },
  {
   "cell_type": "code",
   "execution_count": 15,
   "metadata": {},
   "outputs": [
    {
     "data": {
      "text/plain": [
       "<sqlite3.Cursor at 0x1cfaa28e960>"
      ]
     },
     "execution_count": 15,
     "metadata": {},
     "output_type": "execute_result"
    }
   ],
   "source": [
    "conn.execute(\"Insert into employee VALUES('XYZ',10)\")\n",
    "conn.execute(\"Insert into employee VALUES('ABC',11)\")\n",
    "conn.execute(\"Insert into employee VALUES('KLJ',12)\")\n",
    "conn.execute(\"Insert into employee VALUES('IUS',13)\")"
   ]
  },
  {
   "cell_type": "code",
   "execution_count": 16,
   "metadata": {},
   "outputs": [],
   "source": [
    "cur = conn.execute(\"SELECT * from employee\")"
   ]
  },
  {
   "cell_type": "code",
   "execution_count": 17,
   "metadata": {},
   "outputs": [
    {
     "name": "stdout",
     "output_type": "stream",
     "text": [
      "XYZ\n",
      "10\n",
      "ABC\n",
      "11\n",
      "KLJ\n",
      "12\n",
      "IUS\n",
      "13\n"
     ]
    }
   ],
   "source": [
    "for each in cur:\n",
    "    print(each[0])\n",
    "    print(each[1])"
   ]
  },
  {
   "cell_type": "code",
   "execution_count": 18,
   "metadata": {},
   "outputs": [
    {
     "data": {
      "text/plain": [
       "<sqlite3.Cursor at 0x1cfaa28ef10>"
      ]
     },
     "execution_count": 18,
     "metadata": {},
     "output_type": "execute_result"
    }
   ],
   "source": [
    "conn.execute(\"Insert into projects VALUES('XYZ12','project1',10)\")\n",
    "conn.execute(\"Insert into projects VALUES('XYZ13','project2',11)\")\n",
    "conn.execute(\"Insert into projects VALUES('XYZ15','project3',10)\")\n",
    "conn.execute(\"Insert into projects VALUES('XYZ14','project1',12)\")"
   ]
  },
  {
   "cell_type": "code",
   "execution_count": 19,
   "metadata": {},
   "outputs": [],
   "source": [
    "curr = conn.execute(\"SELECT *  FROM projects\")"
   ]
  },
  {
   "cell_type": "code",
   "execution_count": 20,
   "metadata": {},
   "outputs": [
    {
     "name": "stdout",
     "output_type": "stream",
     "text": [
      "XYZ12\n",
      "project1\n",
      "10\n",
      "XYZ13\n",
      "project2\n",
      "11\n",
      "XYZ15\n",
      "project3\n",
      "10\n",
      "XYZ14\n",
      "project1\n",
      "12\n"
     ]
    }
   ],
   "source": [
    "for each in curr:\n",
    "    print(each[0])\n",
    "    print(each[1])\n",
    "    print(each[2])"
   ]
  },
  {
   "cell_type": "markdown",
   "metadata": {},
   "source": [
    "### WHERE conditions"
   ]
  },
  {
   "cell_type": "code",
   "execution_count": 22,
   "metadata": {},
   "outputs": [],
   "source": [
    "proj = conn.execute(\"SELECT employee_name from employee where employee_id IN (10,12)\")"
   ]
  },
  {
   "cell_type": "code",
   "execution_count": 23,
   "metadata": {},
   "outputs": [
    {
     "name": "stdout",
     "output_type": "stream",
     "text": [
      "XYZ\n",
      "KLJ\n"
     ]
    }
   ],
   "source": [
    "for each in proj:\n",
    "    print(each[0])"
   ]
  },
  {
   "cell_type": "code",
   "execution_count": 26,
   "metadata": {},
   "outputs": [],
   "source": [
    "proj = conn.execute(\"SELECT employee_name from employee where employee_id=10 OR employee_id=12\")"
   ]
  },
  {
   "cell_type": "code",
   "execution_count": 27,
   "metadata": {},
   "outputs": [
    {
     "name": "stdout",
     "output_type": "stream",
     "text": [
      "XYZ\n",
      "KLJ\n"
     ]
    }
   ],
   "source": [
    "for each in proj:\n",
    "    print(each[0])"
   ]
  },
  {
   "cell_type": "code",
   "execution_count": 32,
   "metadata": {},
   "outputs": [],
   "source": [
    "sort = conn.execute(\"SELECT employee_name,employee_id from employee ORDER BY employee_id DESC\")"
   ]
  },
  {
   "cell_type": "code",
   "execution_count": 33,
   "metadata": {},
   "outputs": [
    {
     "name": "stdout",
     "output_type": "stream",
     "text": [
      "IUS\n",
      "13\n",
      "KLJ\n",
      "12\n",
      "ABC\n",
      "11\n",
      "XYZ\n",
      "10\n"
     ]
    }
   ],
   "source": [
    "for each in sort:\n",
    "    print(each[0])\n",
    "    print(each[1])"
   ]
  },
  {
   "cell_type": "markdown",
   "metadata": {},
   "source": [
    "#### DISTINCT"
   ]
  },
  {
   "cell_type": "code",
   "execution_count": 34,
   "metadata": {},
   "outputs": [],
   "source": [
    "dist = conn.execute(\"SELECT DISTINCT employee_id FROM projects\")"
   ]
  },
  {
   "cell_type": "code",
   "execution_count": 35,
   "metadata": {},
   "outputs": [
    {
     "name": "stdout",
     "output_type": "stream",
     "text": [
      "10\n",
      "11\n",
      "12\n"
     ]
    }
   ],
   "source": [
    "for each in dist:\n",
    "    print(each[0])"
   ]
  },
  {
   "cell_type": "markdown",
   "metadata": {},
   "source": [
    "### JOINS"
   ]
  },
  {
   "cell_type": "code",
   "execution_count": 42,
   "metadata": {},
   "outputs": [],
   "source": [
    "join  = conn.execute(\"SELECT employee.employee_id, proj_name from employee left outer join projects on employee.employee_id=projects.employee_id\")"
   ]
  },
  {
   "cell_type": "code",
   "execution_count": 43,
   "metadata": {},
   "outputs": [
    {
     "name": "stdout",
     "output_type": "stream",
     "text": [
      "Employee ID: 10 Project name: project1\n",
      "Employee ID: 10 Project name: project3\n",
      "Employee ID: 11 Project name: project2\n",
      "Employee ID: 12 Project name: project1\n",
      "Employee ID: 13 Project name: None\n"
     ]
    }
   ],
   "source": [
    "for each in join:\n",
    "    print(\"Employee ID: \" + str(each[0]) + \" Project name: \" + str(each[1]))"
   ]
  },
  {
   "cell_type": "code",
   "execution_count": 50,
   "metadata": {},
   "outputs": [],
   "source": [
    "join  = conn.execute(\"SELECT employee.employee_id, proj_name from employee inner join projects on employee.employee_id=projects.employee_id\")"
   ]
  },
  {
   "cell_type": "code",
   "execution_count": 51,
   "metadata": {},
   "outputs": [
    {
     "name": "stdout",
     "output_type": "stream",
     "text": [
      "Employee ID: 10 Project name: project1\n",
      "Employee ID: 11 Project name: project2\n",
      "Employee ID: 10 Project name: project3\n",
      "Employee ID: 12 Project name: project1\n"
     ]
    }
   ],
   "source": [
    "for each in join:\n",
    "    print(\"Employee ID: \" + str(each[0]) + \" Project name: \" + str(each[1]))"
   ]
  },
  {
   "cell_type": "code",
   "execution_count": null,
   "metadata": {},
   "outputs": [],
   "source": []
  }
 ],
 "metadata": {
  "kernelspec": {
   "display_name": "Python 3",
   "language": "python",
   "name": "python3"
  },
  "language_info": {
   "codemirror_mode": {
    "name": "ipython",
    "version": 3
   },
   "file_extension": ".py",
   "mimetype": "text/x-python",
   "name": "python",
   "nbconvert_exporter": "python",
   "pygments_lexer": "ipython3",
   "version": "3.6.9"
  }
 },
 "nbformat": 4,
 "nbformat_minor": 2
}
