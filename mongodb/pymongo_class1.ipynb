{
 "cells": [
  {
   "cell_type": "markdown",
   "metadata": {},
   "source": [
    "### Connection to the server"
   ]
  },
  {
   "cell_type": "code",
   "execution_count": 1,
   "metadata": {},
   "outputs": [
    {
     "name": "stdout",
     "output_type": "stream",
     "text": [
      "Requirement already satisfied: pymongo in c:\\users\\hp world\\anaconda4\\lib\\site-packages\n"
     ]
    },
    {
     "name": "stderr",
     "output_type": "stream",
     "text": [
      "You are using pip version 9.0.1, however version 20.1.1 is available.\n",
      "You should consider upgrading via the 'python -m pip install --upgrade pip' command.\n"
     ]
    }
   ],
   "source": [
    "!pip install pymongo"
   ]
  },
  {
   "cell_type": "code",
   "execution_count": 2,
   "metadata": {},
   "outputs": [],
   "source": [
    "import pymongo"
   ]
  },
  {
   "cell_type": "code",
   "execution_count": 3,
   "metadata": {},
   "outputs": [],
   "source": [
    "myclient = pymongo.MongoClient(\"mongodb://localhost:27017/\")"
   ]
  },
  {
   "cell_type": "markdown",
   "metadata": {},
   "source": [
    "### List the databases present"
   ]
  },
  {
   "cell_type": "code",
   "execution_count": 4,
   "metadata": {},
   "outputs": [
    {
     "name": "stdout",
     "output_type": "stream",
     "text": [
      "['admin', 'config', 'fit5141', 'local']\n"
     ]
    }
   ],
   "source": [
    "print(myclient.list_database_names())"
   ]
  },
  {
   "cell_type": "markdown",
   "metadata": {},
   "source": [
    "### Create new database"
   ]
  },
  {
   "cell_type": "code",
   "execution_count": 11,
   "metadata": {},
   "outputs": [],
   "source": [
    "new_db = myclient['university']"
   ]
  },
  {
   "cell_type": "markdown",
   "metadata": {},
   "source": [
    "### Create new collection"
   ]
  },
  {
   "cell_type": "code",
   "execution_count": 73,
   "metadata": {},
   "outputs": [],
   "source": [
    "new_db = myclient['university']\n",
    "new_collection = new_db['student']"
   ]
  },
  {
   "cell_type": "code",
   "execution_count": 74,
   "metadata": {},
   "outputs": [],
   "source": [
    "new_document = {'name':'abc','age':22,'mobile':9303}\n",
    "coll = new_collection.insert_one(new_document)"
   ]
  },
  {
   "cell_type": "code",
   "execution_count": 17,
   "metadata": {},
   "outputs": [
    {
     "name": "stdout",
     "output_type": "stream",
     "text": [
      "['student']\n"
     ]
    }
   ],
   "source": [
    "print(new_db.list_collection_namesQ())"
   ]
  },
  {
   "cell_type": "code",
   "execution_count": 18,
   "metadata": {},
   "outputs": [
    {
     "name": "stdout",
     "output_type": "stream",
     "text": [
      "['admin', 'config', 'fit5141', 'local', 'university']\n"
     ]
    }
   ],
   "source": [
    "print(myclient.list_database_names())"
   ]
  },
  {
   "cell_type": "code",
   "execution_count": 75,
   "metadata": {},
   "outputs": [],
   "source": [
    "doc_list = [{'name':'aec','age':22,'mobile':93032},{'name':'abhc','age':22,'mobile':93013},{'name':'aebc','age':22,'mobile':91303}]"
   ]
  },
  {
   "cell_type": "code",
   "execution_count": 76,
   "metadata": {},
   "outputs": [],
   "source": [
    "coll = new_collection.insert_many(doc_list)"
   ]
  },
  {
   "cell_type": "code",
   "execution_count": 23,
   "metadata": {},
   "outputs": [],
   "source": [
    "x = new_collection.find_one()"
   ]
  },
  {
   "cell_type": "code",
   "execution_count": 24,
   "metadata": {},
   "outputs": [
    {
     "name": "stdout",
     "output_type": "stream",
     "text": [
      "{'_id': ObjectId('5eea2c85c3edd5b6b5337f72'), 'name': 'abc', 'age': 22, 'mobile': 9303}\n"
     ]
    }
   ],
   "source": [
    "print(x)"
   ]
  },
  {
   "cell_type": "code",
   "execution_count": 79,
   "metadata": {},
   "outputs": [],
   "source": [
    "x = new_collection.find().limit(2)"
   ]
  },
  {
   "cell_type": "code",
   "execution_count": 80,
   "metadata": {},
   "outputs": [
    {
     "name": "stdout",
     "output_type": "stream",
     "text": [
      "{'_id': ObjectId('5eea32acc3edd5b6b5337f78'), 'name': 'abc', 'age': 22, 'mobile': 9303}\n",
      "{'_id': ObjectId('5eea32b0c3edd5b6b5337f79'), 'name': 'aec', 'age': 22, 'mobile': 93032}\n"
     ]
    }
   ],
   "source": [
    "for each in x:\n",
    "    print(each)"
   ]
  },
  {
   "cell_type": "code",
   "execution_count": 38,
   "metadata": {},
   "outputs": [],
   "source": [
    "x = new_collection.find({},{'_id':0,'age':0,'mobile':0})"
   ]
  },
  {
   "cell_type": "code",
   "execution_count": 39,
   "metadata": {},
   "outputs": [
    {
     "name": "stdout",
     "output_type": "stream",
     "text": [
      "{'name': 'abc'}\n",
      "{'name': 'aec'}\n",
      "{'name': 'abhc'}\n",
      "{'name': 'aebc'}\n"
     ]
    }
   ],
   "source": [
    "for each in x:\n",
    "    print(each)"
   ]
  },
  {
   "cell_type": "markdown",
   "metadata": {},
   "source": [
    "### Condition in search query"
   ]
  },
  {
   "cell_type": "code",
   "execution_count": 52,
   "metadata": {},
   "outputs": [],
   "source": [
    "x = new_collection.find({'age':{'$eq':['abc','abhc']}})"
   ]
  },
  {
   "cell_type": "code",
   "execution_count": 53,
   "metadata": {},
   "outputs": [],
   "source": [
    "for each in x:\n",
    "    print(each)"
   ]
  },
  {
   "cell_type": "markdown",
   "metadata": {},
   "source": [
    "## sorting"
   ]
  },
  {
   "cell_type": "code",
   "execution_count": 60,
   "metadata": {},
   "outputs": [],
   "source": [
    "sort = new_collection.find().sort('mobile', -1)"
   ]
  },
  {
   "cell_type": "code",
   "execution_count": 61,
   "metadata": {},
   "outputs": [
    {
     "name": "stdout",
     "output_type": "stream",
     "text": [
      "{'_id': ObjectId('5eea2d3cc3edd5b6b5337f73'), 'name': 'aec', 'age': 22, 'mobile': 93032}\n",
      "{'_id': ObjectId('5eea2d3cc3edd5b6b5337f74'), 'name': 'abhc', 'age': 22, 'mobile': 93013}\n",
      "{'_id': ObjectId('5eea2d3cc3edd5b6b5337f75'), 'name': 'aebc', 'age': 22, 'mobile': 91303}\n",
      "{'_id': ObjectId('5eea2c85c3edd5b6b5337f72'), 'name': 'abc', 'age': 22, 'mobile': 9303}\n",
      "{'_id': ObjectId('5eea313cc3edd5b6b5337f76'), 'name': 'pod', 'age': 19}\n",
      "{'_id': ObjectId('5eea3145c3edd5b6b5337f77'), 'name': 'pod', 'age': 19}\n"
     ]
    }
   ],
   "source": [
    "for each in sort:\n",
    "    print(each)"
   ]
  },
  {
   "cell_type": "code",
   "execution_count": 57,
   "metadata": {},
   "outputs": [],
   "source": [
    "x = new_collection.insert_one({'name':'pod','age':19})"
   ]
  },
  {
   "cell_type": "markdown",
   "metadata": {},
   "source": [
    "### Delete"
   ]
  },
  {
   "cell_type": "code",
   "execution_count": 63,
   "metadata": {},
   "outputs": [
    {
     "data": {
      "text/plain": [
       "<pymongo.results.DeleteResult at 0x19e594eb048>"
      ]
     },
     "execution_count": 63,
     "metadata": {},
     "output_type": "execute_result"
    }
   ],
   "source": [
    "new_collection.delete_one({'name':'abc'})"
   ]
  },
  {
   "cell_type": "code",
   "execution_count": 66,
   "metadata": {},
   "outputs": [],
   "source": [
    "x = new_collection.find({})"
   ]
  },
  {
   "cell_type": "code",
   "execution_count": 67,
   "metadata": {},
   "outputs": [
    {
     "name": "stdout",
     "output_type": "stream",
     "text": [
      "{'_id': ObjectId('5eea2d3cc3edd5b6b5337f73'), 'name': 'aec', 'age': 22, 'mobile': 93032}\n",
      "{'_id': ObjectId('5eea2d3cc3edd5b6b5337f74'), 'name': 'abhc', 'age': 22, 'mobile': 93013}\n",
      "{'_id': ObjectId('5eea2d3cc3edd5b6b5337f75'), 'name': 'aebc', 'age': 22, 'mobile': 91303}\n",
      "{'_id': ObjectId('5eea313cc3edd5b6b5337f76'), 'name': 'pod', 'age': 19}\n",
      "{'_id': ObjectId('5eea3145c3edd5b6b5337f77'), 'name': 'pod', 'age': 19}\n"
     ]
    }
   ],
   "source": [
    "for each in x:\n",
    "    print(each)"
   ]
  },
  {
   "cell_type": "code",
   "execution_count": 68,
   "metadata": {},
   "outputs": [
    {
     "data": {
      "text/plain": [
       "<pymongo.results.UpdateResult at 0x19e594eb2c8>"
      ]
     },
     "execution_count": 68,
     "metadata": {},
     "output_type": "execute_result"
    }
   ],
   "source": [
    "new_collection.update_many({'name':'aec'},{\"$set\":{'age':25}})"
   ]
  },
  {
   "cell_type": "code",
   "execution_count": 69,
   "metadata": {},
   "outputs": [],
   "source": [
    "x = new_collection.find({})"
   ]
  },
  {
   "cell_type": "code",
   "execution_count": 70,
   "metadata": {},
   "outputs": [
    {
     "name": "stdout",
     "output_type": "stream",
     "text": [
      "{'_id': ObjectId('5eea2d3cc3edd5b6b5337f73'), 'name': 'aec', 'age': 25, 'mobile': 93032}\n",
      "{'_id': ObjectId('5eea2d3cc3edd5b6b5337f74'), 'name': 'abhc', 'age': 22, 'mobile': 93013}\n",
      "{'_id': ObjectId('5eea2d3cc3edd5b6b5337f75'), 'name': 'aebc', 'age': 22, 'mobile': 91303}\n",
      "{'_id': ObjectId('5eea313cc3edd5b6b5337f76'), 'name': 'pod', 'age': 19}\n",
      "{'_id': ObjectId('5eea3145c3edd5b6b5337f77'), 'name': 'pod', 'age': 19}\n"
     ]
    }
   ],
   "source": [
    "for each in x:\n",
    "    print(each)"
   ]
  },
  {
   "cell_type": "code",
   "execution_count": 71,
   "metadata": {},
   "outputs": [],
   "source": [
    "new_collection.drop()"
   ]
  },
  {
   "cell_type": "code",
   "execution_count": 72,
   "metadata": {},
   "outputs": [
    {
     "name": "stdout",
     "output_type": "stream",
     "text": [
      "[]\n"
     ]
    }
   ],
   "source": [
    "print(new_db.list_collection_names())"
   ]
  },
  {
   "cell_type": "code",
   "execution_count": null,
   "metadata": {},
   "outputs": [],
   "source": []
  }
 ],
 "metadata": {
  "kernelspec": {
   "display_name": "Python 3",
   "language": "python",
   "name": "python3"
  },
  "language_info": {
   "codemirror_mode": {
    "name": "ipython",
    "version": 3
   },
   "file_extension": ".py",
   "mimetype": "text/x-python",
   "name": "python",
   "nbconvert_exporter": "python",
   "pygments_lexer": "ipython3",
   "version": "3.6.9"
  }
 },
 "nbformat": 4,
 "nbformat_minor": 2
}
